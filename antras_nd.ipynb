{
 "cells": [
  {
   "cell_type": "markdown",
   "metadata": {},
   "source": [
    "1 Užduotis"
   ]
  },
  {
   "cell_type": "code",
   "execution_count": 15,
   "metadata": {},
   "outputs": [
    {
     "name": "stdout",
     "output_type": "stream",
     "text": [
      "[3, 8, 9, 15]\n"
     ]
    }
   ],
   "source": [
    "a = [1,2,3,4,5,6,7,8,9,15]\n",
    "b = [3,8,9,11,15]\n",
    "\n",
    "c = [] # sukuriamas naujas masyvas\n",
    "for x in a: # sukuriamas kintamasis x bei nurodomas iš kur jis imamas \n",
    "    for y in b: # sukuriamas kintamasis y bei nurodomas iš kur jis imamas \n",
    "        if x == y: # keliama sąlyga, nurodanti, jog x ir y kintamieji turi būti lygūs\n",
    "            c.append(x) # reikšmės atitainkančios sąlyga yra sudedamos į masyvą\n",
    "print (c)\n"
   ]
  },
  {
   "cell_type": "markdown",
   "metadata": {},
   "source": [
    "2 Užduotis"
   ]
  },
  {
   "cell_type": "code",
   "execution_count": 61,
   "metadata": {},
   "outputs": [
    {
     "name": "stdout",
     "output_type": "stream",
     "text": [
      "[1, 5, 1, 2, -9, 1, -8, -900, 5, -8, 2, 1, -20, -6, -8, 1]\n"
     ]
    }
   ],
   "source": [
    "x = [1, 5, 1, 2, 8, -9, 10, 1, -8, -900, 14, 5, -8, 2, 1, -20, 900, 800, -6, -8, 12, 1]\n",
    "\n",
    "y = [] # sukuriamas naujas masyvas\n",
    "for z in x:  # sukuriamas kintamasis z bei nurodomas iš kur jis imamas \n",
    "    counter = 0 # pradedamas skaičiavimas\n",
    "    for a in x: # sukuriamas kintamasis a bei nurodomas iš kur jis imamas \n",
    "        if z == a: # keliama sąlyga, nurodanti, jog z ir a kintamieji turi būti lygūs \n",
    "            counter += 1 # prie skaičiavimo pridedamas vienetas\n",
    "    if counter == 1 and z >= 0: # keliama sąlyga, nurodanti, jog skaičiavimas turi būti lygus vienetui bei z turi būti teigiamas arba 0\n",
    "        y.append(z) # sukuriamas unikalių skaičių listas\n",
    "\n",
    "for m in y: # sukuriamas kintamasis m bei nurodomas iš kur jis imamas\n",
    "    x.remove(m) # iš pradinio listo atimami unikalūs teigiami skaičiai\n",
    "\n",
    "print (x)"
   ]
  },
  {
   "cell_type": "markdown",
   "metadata": {},
   "source": [
    "3 Užduotis"
   ]
  },
  {
   "cell_type": "code",
   "execution_count": 62,
   "metadata": {},
   "outputs": [
    {
     "name": "stdout",
     "output_type": "stream",
     "text": [
      "14943.96\n"
     ]
    }
   ],
   "source": [
    "x = { \"cost_price\": 32.67,\n",
    "         \"sell_price\": 45.00,      \n",
    "          \"inventory\": 1212  }\n",
    "\n",
    "print(round(x[\"inventory\"]*(x[\"sell_price\"]-x[\"cost_price\"]),2)) # apskaičiuojamas pelnas"
   ]
  },
  {
   "cell_type": "markdown",
   "metadata": {},
   "source": [
    "4 Užduotis"
   ]
  },
  {
   "cell_type": "code",
   "execution_count": 6,
   "metadata": {},
   "outputs": [
    {
     "name": "stdout",
     "output_type": "stream",
     "text": [
      "0\n",
      "Longest word:savas\n",
      "Shortest word:as\n",
      "savas\n"
     ]
    }
   ],
   "source": [
    "z = [] # sukuriamas naujas masyvas\n",
    "for i in range (1,11): # sukuriamas kintamasis i bei nurodomas jo kiekis.\n",
    "    word = str(input(\"Write a word:\")) # prašoma įrašyti žodį\n",
    "    z.append(word) # žodis pridedamas į listą\n",
    "\n",
    "counter = 0 # pradedamas skaičiavimas\n",
    "l = [] # sukuriamas masyvas\n",
    "for x in z: # sukuriamas kintamasis x bei nurodomas kur jis imamas\n",
    "    l.append(len(x)) # į masyvą yra dedami žodžių ilgiai\n",
    "    if len(x) > 10: # sudaroma sąlyga reikalaujantijog žodžio ilgis būtų virš 10 simbolių\n",
    "        counter +=1 # pridedamas vienetas\n",
    "\n",
    "print(counter) # spauzdinamas žodžių viršijančių 10 simbolių kiekis\n",
    "print(\"Longest word:\" + z[l.index(max(l))]) # ilgiausias žodis\n",
    "print(\"Shortest word:\" + z[l.index(min(l))]) # trumpaiusias žodis\n",
    "\n",
    "for x in z:\n",
    "    if x == x[::-1]: # jei žodis yra tokspat invertintas, jis yra atspauzdinamas\n",
    "        print (x)\n",
    "    "
   ]
  },
  {
   "cell_type": "markdown",
   "metadata": {},
   "source": [
    "5 Užduotis:"
   ]
  },
  {
   "cell_type": "code",
   "execution_count": 4,
   "metadata": {},
   "outputs": [
    {
     "name": "stdout",
     "output_type": "stream",
     "text": [
      "21\n"
     ]
    }
   ],
   "source": [
    "my_list = [3, 6, -2, -5, 7, 3]\n",
    "max2 = my_list[0]*my_list[1] # imamos pirmos dvi masyvo reiksmes\n",
    "for i in range (0,len(my_list)-1): # sudaromas kintamasis i bei nurodomos ciklo ribos\n",
    "   if(my_list[i]*my_list[i+1] > max2): # sudaromas sudaroma sąlyga, jog kintamųjų sandauga turi būti didesnė nei jau turima\n",
    "        max2 = my_list[i]*my_list[i+1] # perašoma didesnė reikšmė\n",
    "\n",
    "print (max2) \n",
    "   \n",
    "    \n",
    "    "
   ]
  }
 ],
 "metadata": {
  "kernelspec": {
   "display_name": "Python 3.9.12 ('base')",
   "language": "python",
   "name": "python3"
  },
  "language_info": {
   "codemirror_mode": {
    "name": "ipython",
    "version": 3
   },
   "file_extension": ".py",
   "mimetype": "text/x-python",
   "name": "python",
   "nbconvert_exporter": "python",
   "pygments_lexer": "ipython3",
   "version": "3.9.12"
  },
  "orig_nbformat": 4,
  "vscode": {
   "interpreter": {
    "hash": "ad2bdc8ecc057115af97d19610ffacc2b4e99fae6737bb82f5d7fb13d2f2c186"
   }
  }
 },
 "nbformat": 4,
 "nbformat_minor": 2
}
