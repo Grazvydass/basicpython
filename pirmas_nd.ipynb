{
 "cells": [
  {
   "cell_type": "markdown",
   "metadata": {},
   "source": [
    "1 Užduotis"
   ]
  },
  {
   "cell_type": "code",
   "execution_count": 34,
   "metadata": {},
   "outputs": [
    {
     "name": "stdout",
     "output_type": "stream",
     "text": [
      "[1, 1, 2, 3, 4, 5, 5, 6, 6, 7]\n"
     ]
    },
    {
     "data": {
      "text/plain": [
       "2"
      ]
     },
     "execution_count": 34,
     "metadata": {},
     "output_type": "execute_result"
    }
   ],
   "source": [
    "first_list = [6,5,3,4,5] # sukuriamas pirmas listas\n",
    "second_list = [7,6,1,2,1,6] # sukuriamas antras listas\n",
    "\n",
    "final_list = first_list + second_list # sudedami first_list bei second_list listai\n",
    "final_list = final_list[:-1] # iš sudėtų listų atimamas paskutinis narys\n",
    "final_list.sort() # išrikiuojami final listo nariai\n",
    "print (final_list) # spauzdinamas final listas\n",
    "final_list.count(5) # patiekiamas reikšmės \"5\" kiekis"
   ]
  },
  {
   "cell_type": "markdown",
   "metadata": {},
   "source": [
    "2 Užduotis"
   ]
  },
  {
   "cell_type": "code",
   "execution_count": 83,
   "metadata": {},
   "outputs": [
    {
     "name": "stdout",
     "output_type": "stream",
     "text": [
      "3\n",
      "6\n",
      "9\n",
      "12\n",
      "15\n",
      "18\n",
      "650\n"
     ]
    }
   ],
   "source": [
    "for x in range(1,21): # sukuriamas kintamasis x bei nurodomas skaičių diapozonas \n",
    "    if (x%3 == 0): # norodoma salyga, kad kintamasis turi dalintis iš 3 be liekanos\n",
    "        print (x) # pateikiame tinkamas kintamojo x reikšmes\n",
    "\n",
    "total = 0 # sukuriama suma\n",
    "for i in range(1,51): # sukuriamas kintamasis i bei nurodomas skaičių diapozonas \n",
    "    if ((i + total)%2 ==0 ):# nurodoma sąlyga, jog pridedamas skaičius jei nauja einama suma bus lyginė\n",
    "        total = total + i # suskaičiuojama suma\n",
    "print (total) # pateikiama suma"
   ]
  },
  {
   "cell_type": "markdown",
   "metadata": {},
   "source": [
    "3 Užduotis"
   ]
  },
  {
   "cell_type": "code",
   "execution_count": 47,
   "metadata": {},
   "outputs": [
    {
     "name": "stdout",
     "output_type": "stream",
     "text": [
      "5\n",
      "10\n",
      "15\n",
      "20\n",
      "25\n",
      "30\n",
      "35\n",
      "40\n",
      "45\n",
      "50\n"
     ]
    }
   ],
   "source": [
    "number = int(input(\"Write a number:\")) # prašoma pateikti skaičių\n",
    "for x in range(1,11): # sukuriamas kintamasis x bei nurodomas skaičių diapozonas \n",
    "    if ((number^2)/2 != 0): # nurodoma sąlyga, jog įvestą skaičių pakėlus kvadratu jo reikšmė turi būti nelyginė\n",
    "        final_result = number*x # įvestas skaičius dauginamas su skaičiais diapozone nuo 1 iki 10\n",
    "        print (final_result) # pateikiamas sandaugos rezultatas"
   ]
  },
  {
   "cell_type": "markdown",
   "metadata": {},
   "source": [
    "4 Užduotis"
   ]
  },
  {
   "cell_type": "code",
   "execution_count": 58,
   "metadata": {},
   "outputs": [
    {
     "name": "stdout",
     "output_type": "stream",
     "text": [
      "[('Pirmadienis', 12), ('Pirmadienis', 13), ('Pirmadienis', 14), ('Pirmadienis', 15), ('Pirmadienis', 16), ('Pirmadienis', 17), ('Trečiadienis', 12), ('Trečiadienis', 13), ('Trečiadienis', 14), ('Trečiadienis', 15), ('Trečiadienis', 16), ('Trečiadienis', 17)]\n"
     ]
    }
   ],
   "source": [
    "days = (\"Pirmadienis\",\"Antradienis\",\"Trečiadienis\",\"Ketvirtadienis\",\"Penktadienis\",\"Šeštadienis\",\"Sekmadienis\") \n",
    "hours = [10,11,12,13,14,15,16,17,18,19]\n",
    "combinations = [] # sukuriamas tuščias listas\n",
    "\n",
    "for day in days: # sukuriamas kintamasis day bei nurodomas iš kur jis imamas\n",
    "    for hour in hours: # sukuriamas kintamasis hour bei nurodomas iš kur jis imamas\n",
    "        if (day == \"Pirmadienis\" or day == \"Trečiadienis\") and (hour >= 12 and hour <= 17): # nurodoma reikalaujama sąlyga, kad diena Pirmadienis arba Trečiadienis, valandos nuo 12 iki 17.\n",
    "            combinations.append( (day, hour) ) # pildomas listas iš gautų rezultatų\n",
    "print (combinations) # pateikiamas listas"
   ]
  },
  {
   "cell_type": "markdown",
   "metadata": {},
   "source": [
    "5 užduotis"
   ]
  },
  {
   "cell_type": "code",
   "execution_count": 117,
   "metadata": {},
   "outputs": [
    {
     "name": "stdout",
     "output_type": "stream",
     "text": [
      "-\n",
      "Fizz\n",
      "Buzz\n",
      "Fizz\n",
      "-\n",
      "FizzBuzz\n",
      "-\n",
      "Fizz\n",
      "Buzz\n",
      "Fizz\n",
      "-\n",
      "FizzBuzz\n",
      "-\n",
      "Fizz\n",
      "Buzz\n",
      "Fizz\n",
      "-\n",
      "FizzBuzz\n",
      "-\n",
      "Fizz\n",
      "Buzz\n",
      "Fizz\n",
      "-\n",
      "FizzBuzz\n",
      "-\n",
      "Fizz\n",
      "Buzz\n",
      "Fizz\n",
      "-\n",
      "FizzBuzz\n",
      "-\n",
      "Fizz\n",
      "Buzz\n",
      "Fizz\n",
      "-\n",
      "FizzBuzz\n",
      "-\n",
      "Fizz\n",
      "Buzz\n",
      "Fizz\n",
      "-\n",
      "FizzBuzz\n",
      "-\n",
      "Fizz\n",
      "Buzz\n",
      "Fizz\n",
      "-\n",
      "FizzBuzz\n",
      "-\n",
      "Fizz\n",
      "Buzz\n",
      "Fizz\n",
      "-\n",
      "FizzBuzz\n",
      "-\n",
      "Fizz\n",
      "Buzz\n",
      "Fizz\n",
      "-\n",
      "FizzBuzz\n",
      "-\n",
      "Fizz\n",
      "Buzz\n",
      "Fizz\n",
      "-\n",
      "FizzBuzz\n",
      "-\n",
      "Fizz\n",
      "Buzz\n",
      "Fizz\n",
      "-\n",
      "FizzBuzz\n",
      "-\n",
      "Fizz\n",
      "Buzz\n",
      "Fizz\n",
      "-\n",
      "FizzBuzz\n",
      "-\n",
      "Fizz\n",
      "Buzz\n",
      "Fizz\n",
      "-\n",
      "FizzBuzz\n",
      "-\n",
      "Fizz\n",
      "Buzz\n",
      "Fizz\n",
      "-\n",
      "FizzBuzz\n",
      "-\n",
      "Fizz\n",
      "Buzz\n",
      "Fizz\n",
      "-\n",
      "FizzBuzz\n",
      "-\n",
      "Fizz\n",
      "Buzz\n",
      "Fizz\n"
     ]
    }
   ],
   "source": [
    "for x in range(1,101): # sukuriamas 100 skaičių diapozonas\n",
    "    if x%2 == 0 and x%3 == 0: # sukuriama sąlyga, kad kintamasis be liekanos turi dalinti iš dviejų bei trijų\n",
    "        print (\"FizzBuzz\") # spauzdinamas žodis \"FizzBuzz\"\n",
    "    elif x%3 == 0: # sukuriama sąlyga, kad kintamasis be liekanos turi dalinti iš trijų \n",
    "        print (\"Buzz\") # spauzdinamas žodis \"Buzz\"\n",
    "    elif x%2 == 0: # sukuriama sąlyga, kad kintamasis be liekanos turi dalinti iš dviejų \n",
    "        print (\"Fizz\") # spauzdinamas žodis \"Fizz\"\n",
    "    else: # jei skaičius neatitinka anksčiau pateiktų sąlygų\n",
    "        print (\"-\") # spauzdinamas \"-\""
   ]
  },
  {
   "cell_type": "markdown",
   "metadata": {},
   "source": [
    "6 Užduotis"
   ]
  },
  {
   "cell_type": "code",
   "execution_count": 67,
   "metadata": {},
   "outputs": [],
   "source": [
    "number = int(input(\"Write a number:\")) # prašoma pateikti skaičių\n",
    "for x in range (1,number+1):# sukuraimas kintamasis x ir nurodomas diapozonas\n",
    "    if number >= 10 and x%5 != 0: # nurodoma sąlyga, jog įvestas skaičius turi būti daugiau arba lygus 10 bei, kad spauzdinamas skaičius dalinasi iš 5 su liekana.  \n",
    "        print (x)"
   ]
  },
  {
   "cell_type": "markdown",
   "metadata": {},
   "source": [
    "7 Užduotis"
   ]
  },
  {
   "cell_type": "code",
   "execution_count": 116,
   "metadata": {},
   "outputs": [
    {
     "name": "stdout",
     "output_type": "stream",
     "text": [
      "14\n",
      "['10 laipsnių šilumos', 'kokia graži diena', 'šiandien už lango', 'vakaras', 'labas', '100', '200', '40', '10', '1', '2', '3', '4', '5']\n"
     ]
    }
   ],
   "source": [
    "a = [\"1\",\"2\",\"3\",\"4\",\"5\"]\n",
    "b = [\"labas\",\"vakaras\",\"kokia graži diena\",\"šiandien už lango\",\"10 laipsnių šilumos\"]\n",
    "c = [\"100\",\"200\",40,10]\n",
    "\n",
    "e = [] # sukuriamas naujas listas\n",
    "for x in c: # sudaromas ciklas c listo nariam\n",
    "    if type(x) == int: # c listo nariai esantys int verčiami į stringus\n",
    "        x = str(x)\n",
    "    e.append (x) # c listo nariai pakeisti į stringus perduodami e stringui\n",
    "\n",
    "d = a + b + e # sudedami visi listai\n",
    "print (len(d)) # pateikiamas naujo listo ilgis \n",
    "d.sort(key= len, reverse = True) # naujo listo nariai yra išrikiuojami nuo mažiausios iki didžiausios reikšmės\n",
    "print (d) # spauzdinamas d listas\n",
    "\n",
    "\n",
    "\n",
    "\n"
   ]
  }
 ],
 "metadata": {
  "kernelspec": {
   "display_name": "Python 3.9.12 ('base')",
   "language": "python",
   "name": "python3"
  },
  "language_info": {
   "codemirror_mode": {
    "name": "ipython",
    "version": 3
   },
   "file_extension": ".py",
   "mimetype": "text/x-python",
   "name": "python",
   "nbconvert_exporter": "python",
   "pygments_lexer": "ipython3",
   "version": "3.9.12"
  },
  "orig_nbformat": 4,
  "vscode": {
   "interpreter": {
    "hash": "ad2bdc8ecc057115af97d19610ffacc2b4e99fae6737bb82f5d7fb13d2f2c186"
   }
  }
 },
 "nbformat": 4,
 "nbformat_minor": 2
}
