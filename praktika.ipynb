{
 "cells": [
  {
   "cell_type": "markdown",
   "metadata": {},
   "source": [
    "# Kodai"
   ]
  },
  {
   "cell_type": "code",
   "execution_count": 12,
   "metadata": {},
   "outputs": [
    {
     "name": "stdout",
     "output_type": "stream",
     "text": [
      "Grazvis Golcas\n",
      "PYTHON MAKES ME REALLY REALLY HAPPY!\n",
      "PyThOn makes me really really happy!\n",
      "happy\n",
      "happy\n"
     ]
    }
   ],
   "source": [
    "name = \"Grazvis\"\n",
    "surname = \"Golcas\"\n",
    "print (name + \" \" + surname)\n",
    "\n",
    "text = \"Python makes me really really happy!\"\n",
    "print (text.upper())\n",
    "print (text.replace(\"Python\",\"PyThOn\"))\n",
    "\n",
    "text_2 = \"Hello World, I am happy to learn Python!\"\n",
    "print (text_2[18:23])\n",
    "print (text_2[text_2.find(\"happy\"):text_2.find(\"happy\") + len(\"happy\")])"
   ]
  },
  {
   "cell_type": "code",
   "execution_count": 25,
   "metadata": {},
   "outputs": [
    {
     "name": "stdout",
     "output_type": "stream",
     "text": [
      "72\n"
     ]
    }
   ],
   "source": [
    "from datetime import datetime\n",
    "\n",
    "birth = datetime(2022, 6, 26)\n",
    "now = datetime.now()\n",
    "time_alive = now - birth\n",
    "print (time_alive.days)\n"
   ]
  },
  {
   "cell_type": "code",
   "execution_count": 27,
   "metadata": {},
   "outputs": [
    {
     "name": "stdout",
     "output_type": "stream",
     "text": [
      "True\n"
     ]
    }
   ],
   "source": [
    "text = \"bandau toliau\"\n",
    "kazkas = \"bandau\" in text\n",
    "print (kazkas)"
   ]
  }
 ],
 "metadata": {
  "kernelspec": {
   "display_name": "Python 3.9.12 ('base')",
   "language": "python",
   "name": "python3"
  },
  "language_info": {
   "codemirror_mode": {
    "name": "ipython",
    "version": 3
   },
   "file_extension": ".py",
   "mimetype": "text/x-python",
   "name": "python",
   "nbconvert_exporter": "python",
   "pygments_lexer": "ipython3",
   "version": "3.9.12"
  },
  "orig_nbformat": 4,
  "vscode": {
   "interpreter": {
    "hash": "ad2bdc8ecc057115af97d19610ffacc2b4e99fae6737bb82f5d7fb13d2f2c186"
   }
  }
 },
 "nbformat": 4,
 "nbformat_minor": 2
}
