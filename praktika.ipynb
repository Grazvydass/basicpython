{
 "cells": [
  {
   "cell_type": "markdown",
   "metadata": {},
   "source": [
    "# Kodai"
   ]
  },
  {
   "cell_type": "code",
   "execution_count": 12,
   "metadata": {},
   "outputs": [
    {
     "name": "stdout",
     "output_type": "stream",
     "text": [
      "Grazvis Golcas\n",
      "PYTHON MAKES ME REALLY REALLY HAPPY!\n",
      "PyThOn makes me really really happy!\n",
      "happy\n",
      "happy\n"
     ]
    }
   ],
   "source": [
    "name = \"Grazvis\"\n",
    "surname = \"Golcas\"\n",
    "print (name + \" \" + surname)\n",
    "\n",
    "text = \"Python makes me really really happy!\"\n",
    "print (text.upper())\n",
    "print (text.replace(\"Python\",\"PyThOn\"))\n",
    "\n",
    "text_2 = \"Hello World, I am happy to learn Python!\"\n",
    "print (text_2[18:23])\n",
    "print (text_2[text_2.find(\"happy\"):text_2.find(\"happy\") + len(\"happy\")])"
   ]
  },
  {
   "cell_type": "code",
   "execution_count": 28,
   "metadata": {},
   "outputs": [
    {
     "name": "stdout",
     "output_type": "stream",
     "text": [
      "8959\n"
     ]
    }
   ],
   "source": [
    "from datetime import datetime\n",
    "\n",
    "birth = datetime(1998, 2, 25)\n",
    "now = datetime.now()\n",
    "time_alive = now - birth\n",
    "print (time_alive.days)\n"
   ]
  },
  {
   "cell_type": "code",
   "execution_count": 27,
   "metadata": {},
   "outputs": [
    {
     "name": "stdout",
     "output_type": "stream",
     "text": [
      "True\n"
     ]
    }
   ],
   "source": [
    "text = \"bandau toliau\"\n",
    "kazkas = \"bandau\" in text\n",
    "print (kazkas)"
   ]
  },
  {
   "cell_type": "code",
   "execution_count": 62,
   "metadata": {},
   "outputs": [
    {
     "name": "stdout",
     "output_type": "stream",
     "text": [
      "[4, 3, 6, 6]\n",
      "(3, 4, 6, 6)\n",
      "2\n"
     ]
    }
   ],
   "source": [
    "from pickle import FALSE\n",
    "\n",
    "\n",
    "tuple_1 = (4,3,6)\n",
    "tuple_2 = (6,9)\n",
    "tuple_3 = tuple_1 + tuple_2\n",
    "temp_list = list(tuple_3)\n",
    "temp_list.pop()\n",
    "print (temp_list)\n",
    "tuple_3 = tuple(sorted(temp_list))\n",
    "print (tuple_3)\n",
    "print (tuple_3.count(6))\n",
    "\n",
    "\n",
    "\n"
   ]
  },
  {
   "cell_type": "code",
   "execution_count": 63,
   "metadata": {},
   "outputs": [
    {
     "name": "stdout",
     "output_type": "stream",
     "text": [
      "Vilnius\n",
      "Kaunas\n",
      "Klaipeda\n"
     ]
    }
   ],
   "source": [
    "miestai = [\"Vilnius\",\"Kaunas\",\"Klaipeda\"]\n",
    "for miestas in miestai:\n",
    "    print (miestas)"
   ]
  },
  {
   "cell_type": "code",
   "execution_count": 78,
   "metadata": {},
   "outputs": [
    {
     "name": "stdout",
     "output_type": "stream",
     "text": [
      "[('Pirmadienis', 10), ('Pirmadienis', 11), ('Pirmadienis', 12), ('Pirmadienis', 13), ('Pirmadienis', 14), ('Pirmadienis', 15), ('Pirmadienis', 16), ('Pirmadienis', 17), ('Pirmadienis', 18), ('Pirmadienis', 19), ('Antradienis', 10), ('Antradienis', 11), ('Antradienis', 12), ('Antradienis', 13), ('Antradienis', 14), ('Antradienis', 15), ('Antradienis', 16), ('Antradienis', 17), ('Antradienis', 18), ('Antradienis', 19), ('Treciadienis', 10), ('Treciadienis', 11), ('Treciadienis', 12), ('Treciadienis', 13), ('Treciadienis', 14), ('Treciadienis', 15), ('Treciadienis', 16), ('Treciadienis', 17), ('Treciadienis', 18), ('Treciadienis', 19), ('Ketvirtadienis', 10), ('Ketvirtadienis', 11), ('Ketvirtadienis', 12), ('Ketvirtadienis', 13), ('Ketvirtadienis', 14), ('Ketvirtadienis', 15), ('Ketvirtadienis', 16), ('Ketvirtadienis', 17), ('Ketvirtadienis', 18), ('Ketvirtadienis', 19), ('Penktadienis', 10), ('Penktadienis', 11), ('Penktadienis', 12), ('Penktadienis', 13), ('Penktadienis', 14), ('Penktadienis', 15), ('Penktadienis', 16), ('Penktadienis', 17), ('Penktadienis', 18), ('Penktadienis', 19)]\n"
     ]
    }
   ],
   "source": [
    "#skaiciai = range(0,11)\n",
    "#for skaicius in skaiciai:\n",
    "#    print (skaicius)\n",
    "\n",
    "#suma = 0\n",
    "#for skaicius in range (0,51):\n",
    "#    suma = suma + skaicius\n",
    "#    print (suma)\n",
    "\n",
    "# gaunamas_skaicius = input(\"Skaicius:\")\n",
    "# print (gaunamas_skaicius)\n",
    "# skaicius = int(gaunamas_skaicius)\n",
    "# for x in range(1,11):\n",
    "#     x = x * skaicius\n",
    "#     print(x)\n",
    "\n",
    "# dienos = [\"Pirmadienis\",\"Antradienis\",\"Treciadienis\",\"Ketvirtadienis\",\"Penktadienis\"]\n",
    "# valandos = [10, 11, 12, 13, 14, 15, 16, 17, 18, 19]\n",
    "\n",
    "# kombinacijos =[]\n",
    "# for diena in dienos:\n",
    "#     for valanda in valandos:\n",
    "#         kombinacijos.append( (diena, valanda) )\n",
    "# print (kombinacijos)\n",
    "\n",
    "asd = int(input(\"Ivedimas:\"))\n",
    "if :\n",
    "    print(f\"{}\")\n",
    "else"
   ]
  }
 ],
 "metadata": {
  "kernelspec": {
   "display_name": "Python 3.9.12 ('base')",
   "language": "python",
   "name": "python3"
  },
  "language_info": {
   "codemirror_mode": {
    "name": "ipython",
    "version": 3
   },
   "file_extension": ".py",
   "mimetype": "text/x-python",
   "name": "python",
   "nbconvert_exporter": "python",
   "pygments_lexer": "ipython3",
   "version": "3.9.12"
  },
  "orig_nbformat": 4,
  "vscode": {
   "interpreter": {
    "hash": "ad2bdc8ecc057115af97d19610ffacc2b4e99fae6737bb82f5d7fb13d2f2c186"
   }
  }
 },
 "nbformat": 4,
 "nbformat_minor": 2
}
