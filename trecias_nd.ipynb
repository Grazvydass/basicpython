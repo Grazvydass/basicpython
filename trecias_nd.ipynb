{
 "cells": [
  {
   "cell_type": "markdown",
   "metadata": {},
   "source": [
    "1 Užduotis"
   ]
  },
  {
   "cell_type": "code",
   "execution_count": 35,
   "metadata": {},
   "outputs": [
    {
     "name": "stdout",
     "output_type": "stream",
     "text": [
      "Total numbers found : 3\n",
      "Total letters found : 5\n",
      "Total signs found : 3\n",
      "Total spaces found : 2\n"
     ]
    }
   ],
   "source": [
    "def first_function():\n",
    "    all_numbers = [\"0\",\"1\",\"2\",\"3\",\"4\",\"5\",\"6\",\"7\",\"8\",\"9\"]\n",
    "    all_letters = [\"a\", \"b\", \"c\", \"d\", \"e\", \"f\", \"g\", \"h\", \"i\", \"j\", \"k\", \"l\",\"m\", \"n\", \"o\", \"p\", \"q\", \"r\", \"s\", \"t\", \"u\", \"v\", \"w\", \"x\", \"y\", \"z\",\n",
    "    \"A\", \"B\", \"C\", \"D\", \"E\", \"F\", \"G\", \"H\", \"I\", \"J\", \"K\", \"L\",\"M\", \"N\", \"O\", \"P\", \"Q\", \"R\", \"S\", \"T\", \"U\", \"V\", \"W\", \"X\", \"Y\", \"Z\"]\n",
    "    sentance = str(input(\"Write a sentance:\"))\n",
    "\n",
    "    total_numbers = 0\n",
    "    total_letters = 0\n",
    "    total_signs = 0\n",
    "    total_spaces = 0\n",
    "\n",
    "    for x in sentance:\n",
    "        if x in all_numbers:\n",
    "            total_numbers += 1\n",
    "        elif x in all_letters:\n",
    "            total_letters += 1\n",
    "        elif x == \" \":\n",
    "            total_spaces += 1\n",
    "        else:\n",
    "            total_signs +=1\n",
    "\n",
    "    print(f\"Total numbers found : {total_numbers}\")\n",
    "    print(f\"Total letters found : {total_letters}\")\n",
    "    print(f\"Total signs found : {total_signs}\")\n",
    "    print(f\"Total spaces found : {total_spaces}\")\n",
    "\n",
    "first_function()"
   ]
  },
  {
   "cell_type": "markdown",
   "metadata": {},
   "source": [
    "2 Užduotis"
   ]
  },
  {
   "cell_type": "code",
   "execution_count": 38,
   "metadata": {},
   "outputs": [
    {
     "name": "stdout",
     "output_type": "stream",
     "text": [
      "[1, 3, 5, 7, 9]\n"
     ]
    }
   ],
   "source": [
    "def second_function():\n",
    "    number1 = int(input(\"Write a starting number:\")) # prašomas pradinis skaičius\n",
    "    number2 = int(input(\"Write an end number:\")) # prašomas galutinis skaičius\n",
    "    number3 = int(input(\"Write a step between:\")) # prašomas žingsnis\n",
    "\n",
    "    total_list = [number1]\n",
    "    for x in range (number1, number2):\n",
    "        if number1 + number3 <= number2:\n",
    "            number1 += number3\n",
    "            total_list.append(number1)\n",
    "    print(total_list)\n",
    "\n",
    "second_function()"
   ]
  },
  {
   "cell_type": "markdown",
   "metadata": {},
   "source": [
    "3 Užduotis"
   ]
  },
  {
   "cell_type": "code",
   "execution_count": 36,
   "metadata": {},
   "outputs": [
    {
     "name": "stdout",
     "output_type": "stream",
     "text": [
      "Biggest number is: 2\n",
      "Lowest number is: 1\n",
      "Difference between biggest and lowest number: 1\n"
     ]
    }
   ],
   "source": [
    "def third_function():\n",
    "    full_list = []\n",
    "    n = int(input(\"Write a list:\")) # prašoma įrašyti listo didį\n",
    "\n",
    "    for x in range (0,n):\n",
    "        g = int(input(\"Write a list:\")) # prašoma įrašyti listo narius\n",
    "        full_list.append(g)\n",
    "\n",
    "    maximum = max(full_list)\n",
    "    print (f\"Biggest number is: {maximum}\")\n",
    "    minimum = min(full_list)\n",
    "    print (f\"Lowest number is: {minimum}\")\n",
    "    awnser = maximum - minimum\n",
    "    print (f\"Difference between biggest and lowest number: {awnser}\")\n",
    "\n",
    "third_function()"
   ]
  }
 ],
 "metadata": {
  "kernelspec": {
   "display_name": "Python 3.9.12 ('base')",
   "language": "python",
   "name": "python3"
  },
  "language_info": {
   "codemirror_mode": {
    "name": "ipython",
    "version": 3
   },
   "file_extension": ".py",
   "mimetype": "text/x-python",
   "name": "python",
   "nbconvert_exporter": "python",
   "pygments_lexer": "ipython3",
   "version": "3.9.12"
  },
  "orig_nbformat": 4,
  "vscode": {
   "interpreter": {
    "hash": "ad2bdc8ecc057115af97d19610ffacc2b4e99fae6737bb82f5d7fb13d2f2c186"
   }
  }
 },
 "nbformat": 4,
 "nbformat_minor": 2
}
